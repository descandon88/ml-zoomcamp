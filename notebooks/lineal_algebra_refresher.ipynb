{
 "cells": [
  {
   "cell_type": "markdown",
   "id": "9a0f69f9-3b6f-411a-8ffc-7d98bb726deb",
   "metadata": {},
   "source": [
    "# 1.8 Lineal Albebra Refresher"
   ]
  },
  {
   "cell_type": "markdown",
   "id": "3a7a451f-b988-45f0-9fd4-84c7862825bd",
   "metadata": {},
   "source": [
    "## Vector Operations"
   ]
  },
  {
   "cell_type": "code",
   "execution_count": null,
   "id": "cb8d1b6e-c5ae-4774-9cc3-fd5842c2653c",
   "metadata": {},
   "outputs": [],
   "source": []
  },
  {
   "cell_type": "code",
   "execution_count": 6,
   "id": "2b887c4d-abbe-4a2d-acee-9ca8a20bed6e",
   "metadata": {},
   "outputs": [],
   "source": [
    "import numpy as np"
   ]
  },
  {
   "cell_type": "code",
   "execution_count": 9,
   "id": "7e129059-f703-4d9b-ba5e-f380fce79a4b",
   "metadata": {},
   "outputs": [],
   "source": [
    "u = np.array([2,4,5,6])\n",
    "v = np.array([1, 0, 0 , 2])"
   ]
  },
  {
   "cell_type": "code",
   "execution_count": 8,
   "id": "5452a533-71c4-4d3b-8370-88089df6ceaa",
   "metadata": {},
   "outputs": [
    {
     "data": {
      "text/plain": [
       "array([ 4,  8, 10, 12])"
      ]
     },
     "execution_count": 8,
     "metadata": {},
     "output_type": "execute_result"
    }
   ],
   "source": [
    "2 * u "
   ]
  },
  {
   "cell_type": "code",
   "execution_count": 10,
   "id": "4d9bc7a7-54cb-40c1-a518-f87a47deccdc",
   "metadata": {},
   "outputs": [
    {
     "data": {
      "text/plain": [
       "array([3, 4, 5, 8])"
      ]
     },
     "execution_count": 10,
     "metadata": {},
     "output_type": "execute_result"
    }
   ],
   "source": [
    "u + v"
   ]
  },
  {
   "cell_type": "markdown",
   "id": "0824cb34-d4d6-4e0b-8e1f-78a3c5289c1c",
   "metadata": {},
   "source": [
    "## Multiplication "
   ]
  },
  {
   "cell_type": "markdown",
   "id": "0dbabb0a-c5a0-4365-98aa-821949196d6a",
   "metadata": {},
   "source": [
    "## Multiplication "
   ]
  },
  {
   "cell_type": "markdown",
   "id": "e352c773-d1e3-4f89-b635-4db23f91364c",
   "metadata": {},
   "source": [
    "### Vector - vector multiplication (dot product)"
   ]
  },
  {
   "cell_type": "code",
   "execution_count": 15,
   "id": "34dde668-7e89-49cf-b6ac-808450d0d712",
   "metadata": {},
   "outputs": [],
   "source": [
    "def vector_vector_multiplication(u,v):\n",
    "    assert u.shape[0] == v.shape[0] \n",
    "    \n",
    "    n = u.shape[0]\n",
    "    \n",
    "    result = 0.0\n",
    "    \n",
    "    for i in range(n):\n",
    "        result = result + u[i] * v[i]\n",
    "    return result"
   ]
  },
  {
   "cell_type": "code",
   "execution_count": 16,
   "id": "1a0cb969-275b-4d68-b0a7-61072b10d521",
   "metadata": {},
   "outputs": [
    {
     "data": {
      "text/plain": [
       "np.float64(14.0)"
      ]
     },
     "execution_count": 16,
     "metadata": {},
     "output_type": "execute_result"
    }
   ],
   "source": [
    "vector_vector_multiplication(u,v)"
   ]
  },
  {
   "cell_type": "code",
   "execution_count": 17,
   "id": "9fe44913-37fd-429c-999f-25c1e0e6acfd",
   "metadata": {},
   "outputs": [
    {
     "data": {
      "text/plain": [
       "np.int64(14)"
      ]
     },
     "execution_count": 17,
     "metadata": {},
     "output_type": "execute_result"
    }
   ],
   "source": [
    "u.dot(v)"
   ]
  },
  {
   "cell_type": "markdown",
   "id": "d9452797-4e9e-485e-91af-c7204cf17ace",
   "metadata": {},
   "source": [
    "### Matrix Vector Multiplication "
   ]
  },
  {
   "cell_type": "code",
   "execution_count": 21,
   "id": "518751af-fabe-46e5-9f17-b5d7f79c54ee",
   "metadata": {},
   "outputs": [
    {
     "data": {
      "text/plain": [
       "array([[ 4, 16, 25, 36],\n",
       "       [ 2,  8,  5, 12],\n",
       "       [ 6,  4, 10,  6]])"
      ]
     },
     "execution_count": 21,
     "metadata": {},
     "output_type": "execute_result"
    }
   ],
   "source": [
    "m = np.array([[2,4,5,6],\n",
    " [1,2,1,2],\n",
    " [3,1,2,1]])\n",
    "\n",
    "m * u"
   ]
  },
  {
   "cell_type": "code",
   "execution_count": 25,
   "id": "006ad40b-b114-4a72-b4c1-bf93f5fd3f8c",
   "metadata": {},
   "outputs": [],
   "source": [
    "def matrix_vector_multiplication(m,v):\n",
    "    assert m.shape[1] == v.shape[0]\n",
    "\n",
    "    num_rows = m.shape[0]\n",
    "\n",
    "    result = np.zeros(num_rows)\n",
    "\n",
    "    for i in range(num_rows):\n",
    "        result[i] = vector_vector_multiplication(m[i],v)\n",
    "        \n",
    "    return result"
   ]
  },
  {
   "cell_type": "code",
   "execution_count": 26,
   "id": "9b424f05-8d70-4caf-bf31-43b0b2303c5d",
   "metadata": {},
   "outputs": [
    {
     "data": {
      "text/plain": [
       "array([14.,  5.,  5.])"
      ]
     },
     "execution_count": 26,
     "metadata": {},
     "output_type": "execute_result"
    }
   ],
   "source": [
    "matrix_vector_multiplication(m,v)"
   ]
  },
  {
   "cell_type": "code",
   "execution_count": 27,
   "id": "566a28c0-7472-4747-bde8-b5ceb9216ca7",
   "metadata": {},
   "outputs": [
    {
     "data": {
      "text/plain": [
       "array([14,  5,  5])"
      ]
     },
     "execution_count": 27,
     "metadata": {},
     "output_type": "execute_result"
    }
   ],
   "source": [
    "m.dot(v)"
   ]
  },
  {
   "cell_type": "code",
   "execution_count": null,
   "id": "8247aa23-dbcd-4786-a04c-1c1e5e385e39",
   "metadata": {},
   "outputs": [],
   "source": []
  },
  {
   "cell_type": "markdown",
   "id": "3bfa5574-5a21-4b6a-9cfc-35ab893ce52f",
   "metadata": {},
   "source": [
    "## Matrix Matrix Multiplication"
   ]
  },
  {
   "cell_type": "code",
   "execution_count": 57,
   "id": "118c92e6-bc97-4704-be71-f814f9b94708",
   "metadata": {},
   "outputs": [
    {
     "data": {
      "text/plain": [
       "array([[1. , 1. , 2. ],\n",
       "       [0. , 0.5, 1. ],\n",
       "       [0. , 2. , 1. ],\n",
       "       [2. , 1. , 0. ]])"
      ]
     },
     "execution_count": 57,
     "metadata": {},
     "output_type": "execute_result"
    }
   ],
   "source": [
    "V = np.array([\n",
    "    [1,1,2],\n",
    "    [0,0.5,1],\n",
    "    [0,2,1],\n",
    "    [2,1,0],\n",
    "])\n",
    "V"
   ]
  },
  {
   "cell_type": "code",
   "execution_count": 36,
   "id": "e57169f7-013e-4624-bf1b-a262a966f8b9",
   "metadata": {},
   "outputs": [
    {
     "data": {
      "text/plain": [
       "(3, 4)"
      ]
     },
     "execution_count": 36,
     "metadata": {},
     "output_type": "execute_result"
    }
   ],
   "source": [
    "m.shape"
   ]
  },
  {
   "cell_type": "code",
   "execution_count": 52,
   "id": "d2a3bef7-2627-4952-b70a-7eb70d68e0d5",
   "metadata": {},
   "outputs": [],
   "source": [
    "def matrix_matrix_multiplication(m,V):\n",
    "    assert m.shape[1] == V.shape[0]\n",
    "    num_rows = m.shape[0]\n",
    "    num_cols = V.shape[1]\n",
    "    \n",
    "    result = np.zeros((num_rows,num_cols))\n",
    "    \n",
    "    for i in range(num_cols):\n",
    "        vi = V[:,i]\n",
    "        resi = matrix_vector_multiplication(m,vi)\n",
    "        result[:,i] = resi\n",
    "    return result"
   ]
  },
  {
   "cell_type": "code",
   "execution_count": 53,
   "id": "fff5c8ed-b805-4913-ba12-e15abfb411a7",
   "metadata": {},
   "outputs": [
    {
     "data": {
      "text/plain": [
       "array([[14. , 20. , 13. ],\n",
       "       [ 5. ,  6. ,  5. ],\n",
       "       [ 5. ,  8.5,  9. ]])"
      ]
     },
     "execution_count": 53,
     "metadata": {},
     "output_type": "execute_result"
    }
   ],
   "source": [
    "matrix_matrix_multiplication(m,V)"
   ]
  },
  {
   "cell_type": "code",
   "execution_count": 29,
   "id": "566e256d-933a-44bf-8bc9-25eb6976ab21",
   "metadata": {},
   "outputs": [
    {
     "data": {
      "text/plain": [
       "array([[14. , 20. , 13. ],\n",
       "       [ 5. ,  6. ,  5. ],\n",
       "       [ 5. ,  8.5,  9. ]])"
      ]
     },
     "execution_count": 29,
     "metadata": {},
     "output_type": "execute_result"
    }
   ],
   "source": [
    "m.dot(V)"
   ]
  },
  {
   "cell_type": "code",
   "execution_count": 58,
   "id": "17204550-2e72-457a-9931-2ad99fcf8512",
   "metadata": {},
   "outputs": [
    {
     "name": "stdout",
     "output_type": "stream",
     "text": [
      "[1. 0. 0. 2.]\n",
      "[14.  5.  5.]\n",
      "[1.  0.5 2.  1. ]\n",
      "[20.   6.   8.5]\n",
      "[2. 1. 1. 0.]\n",
      "[13.  5.  9.]\n"
     ]
    }
   ],
   "source": [
    "num_cols = V.shape[1]\n",
    "for i in range(num_cols):\n",
    "        vi = V[:,i]\n",
    "        print(vi)\n",
    "        resi = matrix_vector_multiplication(m,vi)\n",
    "        print(resi)\n"
   ]
  },
  {
   "cell_type": "markdown",
   "id": "6981ae18-b5cf-4b7d-8aea-18fc0781d9c4",
   "metadata": {},
   "source": [
    "## Identity Matrix"
   ]
  },
  {
   "cell_type": "code",
   "execution_count": 59,
   "id": "b7ce8181-271b-4166-9324-2eceddeaec6e",
   "metadata": {},
   "outputs": [
    {
     "data": {
      "text/plain": [
       "array([[1., 0., 0., 0., 0., 0., 0., 0., 0., 0.],\n",
       "       [0., 1., 0., 0., 0., 0., 0., 0., 0., 0.],\n",
       "       [0., 0., 1., 0., 0., 0., 0., 0., 0., 0.],\n",
       "       [0., 0., 0., 1., 0., 0., 0., 0., 0., 0.],\n",
       "       [0., 0., 0., 0., 1., 0., 0., 0., 0., 0.],\n",
       "       [0., 0., 0., 0., 0., 1., 0., 0., 0., 0.],\n",
       "       [0., 0., 0., 0., 0., 0., 1., 0., 0., 0.],\n",
       "       [0., 0., 0., 0., 0., 0., 0., 1., 0., 0.],\n",
       "       [0., 0., 0., 0., 0., 0., 0., 0., 1., 0.],\n",
       "       [0., 0., 0., 0., 0., 0., 0., 0., 0., 1.]])"
      ]
     },
     "execution_count": 59,
     "metadata": {},
     "output_type": "execute_result"
    }
   ],
   "source": [
    "np.eye(10)"
   ]
  },
  {
   "cell_type": "code",
   "execution_count": 60,
   "id": "7bbe231a-2de8-4920-b0b9-8c2733acd97b",
   "metadata": {},
   "outputs": [
    {
     "data": {
      "text/plain": [
       "array([[1., 0., 0.],\n",
       "       [0., 1., 0.],\n",
       "       [0., 0., 1.]])"
      ]
     },
     "execution_count": 60,
     "metadata": {},
     "output_type": "execute_result"
    }
   ],
   "source": [
    "I = np.eye(3)\n",
    "I"
   ]
  },
  {
   "cell_type": "code",
   "execution_count": 61,
   "id": "a953c277-dacb-4312-b749-75876de1bdd8",
   "metadata": {},
   "outputs": [
    {
     "data": {
      "text/plain": [
       "array([[1. , 1. , 2. ],\n",
       "       [0. , 0.5, 1. ],\n",
       "       [0. , 2. , 1. ],\n",
       "       [2. , 1. , 0. ]])"
      ]
     },
     "execution_count": 61,
     "metadata": {},
     "output_type": "execute_result"
    }
   ],
   "source": [
    "V.dot(I)"
   ]
  },
  {
   "cell_type": "markdown",
   "id": "f881edc1-b5e8-4e4e-bf78-d167569c7664",
   "metadata": {},
   "source": [
    "## Matrix Inverse"
   ]
  },
  {
   "cell_type": "code",
   "execution_count": 64,
   "id": "422c95f9-4778-424b-a45b-be8d496c71b0",
   "metadata": {},
   "outputs": [
    {
     "data": {
      "text/plain": [
       "array([[1. , 1. , 2. ],\n",
       "       [0. , 0.5, 1. ],\n",
       "       [0. , 2. , 1. ]])"
      ]
     },
     "execution_count": 64,
     "metadata": {},
     "output_type": "execute_result"
    }
   ],
   "source": [
    "Vs = V[[0,1,2]]\n",
    "Vs"
   ]
  },
  {
   "cell_type": "code",
   "execution_count": 70,
   "id": "34c35e16-ea5d-49df-b6bd-9cdd5fdd202d",
   "metadata": {},
   "outputs": [
    {
     "data": {
      "text/plain": [
       "array([[1. , 1. , 2. ],\n",
       "       [0. , 0.5, 1. ],\n",
       "       [0. , 2. , 1. ]])"
      ]
     },
     "execution_count": 70,
     "metadata": {},
     "output_type": "execute_result"
    }
   ],
   "source": [
    "V[0:3,:]"
   ]
  },
  {
   "cell_type": "code",
   "execution_count": 71,
   "id": "ce495c8b-b8bd-4eca-a425-53e1180840fe",
   "metadata": {},
   "outputs": [
    {
     "data": {
      "text/plain": [
       "array([[ 1.        , -2.        ,  0.        ],\n",
       "       [ 0.        , -0.66666667,  0.66666667],\n",
       "       [ 0.        ,  1.33333333, -0.33333333]])"
      ]
     },
     "execution_count": 71,
     "metadata": {},
     "output_type": "execute_result"
    }
   ],
   "source": [
    "Vs_inv = np.linalg.inv(Vs)\n",
    "Vs_inv"
   ]
  },
  {
   "cell_type": "code",
   "execution_count": 72,
   "id": "a4d437c5-be14-47e2-b295-467dd01ceaed",
   "metadata": {},
   "outputs": [
    {
     "data": {
      "text/plain": [
       "array([[1., 0., 0.],\n",
       "       [0., 1., 0.],\n",
       "       [0., 0., 1.]])"
      ]
     },
     "execution_count": 72,
     "metadata": {},
     "output_type": "execute_result"
    }
   ],
   "source": [
    "Vs_inv.dot(Vs)"
   ]
  },
  {
   "cell_type": "code",
   "execution_count": null,
   "id": "aec651b8-d659-4968-98a0-a083d812cd09",
   "metadata": {},
   "outputs": [],
   "source": []
  },
  {
   "cell_type": "code",
   "execution_count": null,
   "id": "03c7d410-c7ae-450e-a5c4-3578ec03742f",
   "metadata": {},
   "outputs": [],
   "source": []
  },
  {
   "cell_type": "code",
   "execution_count": null,
   "id": "2a43dead-a45d-4a11-8f9f-030da1206208",
   "metadata": {},
   "outputs": [],
   "source": []
  },
  {
   "cell_type": "code",
   "execution_count": null,
   "id": "d429f472-476a-45d6-b549-de42b1d4c5fc",
   "metadata": {},
   "outputs": [],
   "source": []
  }
 ],
 "metadata": {
  "kernelspec": {
   "display_name": "Python 3 (ipykernel)",
   "language": "python",
   "name": "python3"
  },
  "language_info": {
   "codemirror_mode": {
    "name": "ipython",
    "version": 3
   },
   "file_extension": ".py",
   "mimetype": "text/x-python",
   "name": "python",
   "nbconvert_exporter": "python",
   "pygments_lexer": "ipython3",
   "version": "3.11.6"
  }
 },
 "nbformat": 4,
 "nbformat_minor": 5
}
