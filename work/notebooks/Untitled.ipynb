{
 "cells": [
  {
   "cell_type": "markdown",
   "id": "fd4bf781-9789-42b8-89fc-55f02783ec1b",
   "metadata": {},
   "source": [
    "### Homework - Evaluation  Metrics"
   ]
  },
  {
   "cell_type": "code",
   "execution_count": null,
   "id": "a0b6d33a-8cc0-4265-8c00-6c950080ad6c",
   "metadata": {},
   "outputs": [],
   "source": []
  },
  {
   "cell_type": "markdown",
   "id": "09140dab-180f-469a-8c75-008e1cabeecb",
   "metadata": {},
   "source": [
    "#### Question 1: ROC AUC feature importance\n"
   ]
  },
  {
   "cell_type": "code",
   "execution_count": null,
   "id": "c705b22f-e2ba-422b-81df-0e0fa9bdbb83",
   "metadata": {},
   "outputs": [],
   "source": []
  },
  {
   "cell_type": "code",
   "execution_count": null,
   "id": "198376dc-7338-4744-b352-284f5d06b6ca",
   "metadata": {},
   "outputs": [],
   "source": []
  },
  {
   "cell_type": "code",
   "execution_count": null,
   "id": "d106ee9b-6271-43d3-afd9-3030886cfbfe",
   "metadata": {},
   "outputs": [],
   "source": []
  },
  {
   "cell_type": "markdown",
   "id": "666f8343-cad2-4ee3-b0a4-618c8fe3c0cd",
   "metadata": {},
   "source": [
    "#### Question 2: Training the model"
   ]
  },
  {
   "cell_type": "code",
   "execution_count": null,
   "id": "c7ce6337-fde7-4b47-a194-642ac0142c30",
   "metadata": {},
   "outputs": [],
   "source": []
  },
  {
   "cell_type": "code",
   "execution_count": null,
   "id": "46eef125-cad8-4a8a-b179-8c5e01b8c980",
   "metadata": {},
   "outputs": [],
   "source": []
  },
  {
   "cell_type": "markdown",
   "id": "0f169329-08da-4d99-9d72-1dfac44db8d4",
   "metadata": {},
   "source": [
    "#### Question 3: Precision and Recall"
   ]
  },
  {
   "cell_type": "code",
   "execution_count": null,
   "id": "09a6252d-2500-4754-84b0-873670e10d84",
   "metadata": {},
   "outputs": [],
   "source": []
  }
 ],
 "metadata": {
  "kernelspec": {
   "display_name": "Python 3 (ipykernel)",
   "language": "python",
   "name": "python3"
  },
  "language_info": {
   "codemirror_mode": {
    "name": "ipython",
    "version": 3
   },
   "file_extension": ".py",
   "mimetype": "text/x-python",
   "name": "python",
   "nbconvert_exporter": "python",
   "pygments_lexer": "ipython3",
   "version": "3.11.6"
  }
 },
 "nbformat": 4,
 "nbformat_minor": 5
}
